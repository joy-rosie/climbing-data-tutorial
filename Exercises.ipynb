{
 "cells": [
  {
   "cell_type": "markdown",
   "id": "b039aa82",
   "metadata": {},
   "source": [
    "# Climbing Data With `pandas` Exercises"
   ]
  },
  {
   "cell_type": "markdown",
   "id": "34647363",
   "metadata": {},
   "source": [
    "## 1. Import\n",
    "\n",
    "- Import `sqlite3` and `pandas`\n",
    "- Remember to import `pandas` with the name `pd`"
   ]
  },
  {
   "cell_type": "code",
   "execution_count": null,
   "id": "3b57a1f1",
   "metadata": {},
   "outputs": [],
   "source": [
    "# Add imports here"
   ]
  },
  {
   "cell_type": "markdown",
   "id": "a7751b8e",
   "metadata": {},
   "source": [
    "## 2. SQL Connection\n",
    "\n",
    "- Create a connection to the `sqlite3` database with path `/data/database.sqlite`\n",
    "- Remember to make sure that you have downloaded the file `database.sqlite` to the folder `/data`"
   ]
  },
  {
   "cell_type": "code",
   "execution_count": null,
   "id": "4c88ee8c",
   "metadata": {},
   "outputs": [],
   "source": [
    "# Create an sqlite3 connection here"
   ]
  },
  {
   "cell_type": "markdown",
   "id": "d48a7a7f",
   "metadata": {},
   "source": [
    "## 3. Read Into `pandas`\n",
    "\n",
    "- We now want to use `pd.read_sql` to read four tables into separate dataframes:\n",
    "    - `user` -> `df_user`\n",
    "    - `grade` -> `df_grade`\n",
    "    - `method` -> `df_method`\n",
    "    - `ascent` -> `df_ascent`"
   ]
  },
  {
   "cell_type": "code",
   "execution_count": null,
   "id": "8f2f27e3",
   "metadata": {},
   "outputs": [],
   "source": [
    "# Get tables into pandas dataframes"
   ]
  },
  {
   "cell_type": "markdown",
   "id": "993b3234",
   "metadata": {},
   "source": [
    "## 4. View Each `DataFrame`\n",
    "\n",
    "- Let us look at summaries for every dataframes\n",
    "- When we want to display multiple items in `jupyter` we can use `display()`\n",
    "- Display the remaining two dataframes in the cell below"
   ]
  },
  {
   "cell_type": "code",
   "execution_count": null,
   "id": "394fb78c",
   "metadata": {},
   "outputs": [],
   "source": [
    "display(df_user)\n",
    "display(df_grade)\n",
    "\n",
    "# Display the reamining dataframes here"
   ]
  },
  {
   "cell_type": "markdown",
   "id": "a7dc7a61",
   "metadata": {},
   "source": [
    "## 5. Explore All Tables\n",
    "\n",
    "- Display table\n",
    "- Display column names\n",
    "- Get numeric column summaries\n",
    "- Use `value_counts()` to understand categorical columns"
   ]
  },
  {
   "cell_type": "code",
   "execution_count": null,
   "id": "983c989f",
   "metadata": {},
   "outputs": [],
   "source": [
    "# Write code to explore tables here"
   ]
  },
  {
   "cell_type": "markdown",
   "id": "144a0041",
   "metadata": {},
   "source": [
    "## 6. Exploring Ascent Data\n",
    "\n",
    "- We have already seen the number of ascents/climbs per user in the tutorial\n",
    "- Let us find the number of ascents/climbs per grade and then per year\n",
    "- You will find some odd data for the year data"
   ]
  },
  {
   "cell_type": "code",
   "execution_count": null,
   "id": "693bd090",
   "metadata": {},
   "outputs": [],
   "source": [
    "# Write code here to see the number of climbs per grade"
   ]
  },
  {
   "cell_type": "code",
   "execution_count": null,
   "id": "fc01432d",
   "metadata": {},
   "outputs": [],
   "source": [
    "# Write code here to see the number of climbs per year"
   ]
  },
  {
   "cell_type": "markdown",
   "id": "72ab648b",
   "metadata": {},
   "source": [
    "## 7. Filtering Ascent Data\n",
    "\n",
    "- In the tutorial we filtered data to remove any climb with year below 1980, first copy that code into this notebook\n",
    "- Then also filter out all climbs strictly above 2017"
   ]
  },
  {
   "cell_type": "code",
   "execution_count": null,
   "id": "57a1e732",
   "metadata": {},
   "outputs": [],
   "source": [
    "# Write code here to filter data"
   ]
  },
  {
   "cell_type": "markdown",
   "id": "f8cf1161",
   "metadata": {},
   "source": [
    "## 8. Plotting Ascent Data\n",
    "\n",
    "- In the tutorial we found the value counts for the `grade_id` column and plotted it\n",
    "- Now, we would like to do the do the same for the `year` column"
   ]
  },
  {
   "cell_type": "code",
   "execution_count": null,
   "id": "590635a0",
   "metadata": {},
   "outputs": [],
   "source": [
    "# Write code here to plot data"
   ]
  },
  {
   "cell_type": "markdown",
   "id": "9b548b47",
   "metadata": {},
   "source": [
    "## 9. Random User Ascents\n",
    "\n",
    "- For user with `user_id` = 34623, we want to find the maximum `grade_id` they climbed per year\n",
    "- Hint: You will have to use a groupby here unlike the example in the tutorial"
   ]
  },
  {
   "cell_type": "code",
   "execution_count": null,
   "id": "c658db92",
   "metadata": {},
   "outputs": [],
   "source": [
    "# Write code here to get the maximum grade_id by year"
   ]
  },
  {
   "cell_type": "markdown",
   "id": "c2d61e96",
   "metadata": {},
   "source": [
    "## 10. Joining Dataframes\n",
    "\n",
    "- Join the `df_user` dataframe to the first 1000 rows of `df_ascent`"
   ]
  },
  {
   "cell_type": "code",
   "execution_count": null,
   "id": "9ff9b27a",
   "metadata": {},
   "outputs": [],
   "source": [
    "# Write code here to get the joined data"
   ]
  }
 ],
 "metadata": {
  "kernelspec": {
   "display_name": "Python 3",
   "language": "python",
   "name": "python3"
  },
  "language_info": {
   "codemirror_mode": {
    "name": "ipython",
    "version": 3
   },
   "file_extension": ".py",
   "mimetype": "text/x-python",
   "name": "python",
   "nbconvert_exporter": "python",
   "pygments_lexer": "ipython3",
   "version": "3.8.10"
  }
 },
 "nbformat": 4,
 "nbformat_minor": 5
}
